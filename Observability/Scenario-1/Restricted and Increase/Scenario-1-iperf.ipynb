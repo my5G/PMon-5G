{
 "cells": [
  {
   "cell_type": "code",
   "execution_count": null,
   "metadata": {},
   "outputs": [],
   "source": [
    "import pandas as pd \n",
    "import matplotlib.pyplot as plt\n",
    "import seaborn as sns\n",
    "sns.set_theme(style=\"darkgrid\")"
   ]
  },
  {
   "cell_type": "code",
   "execution_count": null,
   "metadata": {},
   "outputs": [],
   "source": [
    "df_err_core_cpu_usage = pd.read_csv('csv/err/core-cpu-usage.csv',  delimiter=',', header=0)\n",
    "df_err_core_cpu_usage['Time'] = pd.to_datetime(df_err_core_cpu_usage['Time'])\n",
    "df_err_core_cpu_usage[\"free5gc\"] = pd.to_numeric(df_err_core_cpu_usage['free5gc'])\n",
    "\n",
    "df_ok_core_cpu_usage = pd.read_csv('csv/ok/core-cpu-usage.csv',  delimiter=',', header=0)\n",
    "df_ok_core_cpu_usage['Time'] = pd.to_datetime(df_ok_core_cpu_usage['Time'])\n",
    "df_ok_core_cpu_usage[\"free5gc\"] = pd.to_numeric(df_ok_core_cpu_usage['free5gc'])"
   ]
  },
  {
   "cell_type": "code",
   "execution_count": null,
   "metadata": {},
   "outputs": [],
   "source": [
    "df_err_cu_cpu_usage = pd.read_csv('csv/err/cu-cpu-usage.csv',  delimiter=',', header=0)\n",
    "df_err_cu_cpu_usage['Time'] = pd.to_datetime(df_err_cu_cpu_usage['Time'])\n",
    "df_err_cu_cpu_usage[\"cu\"] = pd.to_numeric(df_err_cu_cpu_usage['cu'])\n",
    "\n",
    "df_ok_cu_cpu_usage = pd.read_csv('csv/ok/cu-cpu-usage.csv',  delimiter=',', header=0)\n",
    "df_ok_cu_cpu_usage['Time'] = pd.to_datetime(df_ok_cu_cpu_usage['Time'])\n",
    "df_ok_cu_cpu_usage[\"cu\"] = pd.to_numeric(df_ok_cu_cpu_usage['cu'])"
   ]
  },
  {
   "cell_type": "code",
   "execution_count": null,
   "metadata": {},
   "outputs": [],
   "source": [
    "df_err_du_cpu_usage = pd.read_csv('csv/err/du-cpu-usage.csv',  delimiter=',', header=0)\n",
    "df_err_du_cpu_usage['Time'] = pd.to_datetime(df_err_du_cpu_usage['Time'])\n",
    "df_err_du_cpu_usage[\"du\"] = pd.to_numeric(df_err_du_cpu_usage['du'])\n",
    "\n",
    "df_ok_du_cpu_usage = pd.read_csv('csv/ok/du-cpu-usage.csv',  delimiter=',', header=0)\n",
    "df_ok_du_cpu_usage['Time'] = pd.to_datetime(df_ok_du_cpu_usage['Time'])\n",
    "df_ok_du_cpu_usage[\"du\"] = pd.to_numeric(df_ok_du_cpu_usage['du'])"
   ]
  },
  {
   "cell_type": "code",
   "execution_count": null,
   "metadata": {},
   "outputs": [],
   "source": [
    "df_err_ru_cpu_usage = pd.read_csv('csv/err/ru-cpu-usage.csv',  delimiter=',', header=0)\n",
    "df_err_ru_cpu_usage['Time'] = pd.to_datetime(df_err_ru_cpu_usage['Time'])\n",
    "df_err_ru_cpu_usage[\"ru\"] = pd.to_numeric(df_err_ru_cpu_usage['ru'])\n",
    "\n",
    "df_ok_ru_cpu_usage = pd.read_csv('csv/ok/ru-cpu-usage.csv',  delimiter=',', header=0)\n",
    "df_ok_ru_cpu_usage['Time'] = pd.to_datetime(df_ok_ru_cpu_usage['Time'])\n",
    "df_ok_ru_cpu_usage[\"ru\"] = pd.to_numeric(df_ok_ru_cpu_usage['ru'])"
   ]
  },
  {
   "cell_type": "code",
   "execution_count": null,
   "metadata": {},
   "outputs": [],
   "source": [
    "df_err_ran_limits_cpu_usage = pd.read_csv('csv/err/limits-ran-cpu-usage.csv',  delimiter=',', header=0)\n",
    "df_err_ran_limits_cpu_usage['Time'] = pd.to_datetime(df_err_ran_limits_cpu_usage['Time'])\n",
    "df_err_ran_limits_cpu_usage[\"limits\"] = pd.to_numeric(df_err_ran_limits_cpu_usage['limits'])\n",
    "\n",
    "df_ok_ran_limits_cpu_usage = pd.read_csv('csv/ok/limits-ran-cpu-usage.csv',  delimiter=',', header=0)\n",
    "df_ok_ran_limits_cpu_usage['Time'] = pd.to_datetime(df_ok_ran_limits_cpu_usage['Time'])\n",
    "df_ok_ran_limits_cpu_usage[\"limits\"] = pd.to_numeric(df_ok_ran_limits_cpu_usage['limits'])"
   ]
  },
  {
   "cell_type": "code",
   "execution_count": null,
   "metadata": {},
   "outputs": [],
   "source": [
    "df_err_core_limits_cpu_usage = pd.read_csv('csv/err/limits-core-cpu-usage.csv',  delimiter=',', header=0)\n",
    "df_err_core_limits_cpu_usage['Time'] = pd.to_datetime(df_err_core_limits_cpu_usage['Time'])\n",
    "df_err_core_limits_cpu_usage[\"limits\"] = pd.to_numeric(df_err_core_limits_cpu_usage['limits'])\n",
    "\n",
    "df_ok_core_limits_cpu_usage = pd.read_csv('csv/ok/limits-core-cpu-usage.csv',  delimiter=',', header=0)\n",
    "df_ok_core_limits_cpu_usage['Time'] = pd.to_datetime(df_ok_core_limits_cpu_usage['Time'])\n",
    "df_ok_core_limits_cpu_usage[\"limits\"] = pd.to_numeric(df_ok_core_limits_cpu_usage['limits'])"
   ]
  },
  {
   "cell_type": "code",
   "execution_count": null,
   "metadata": {},
   "outputs": [],
   "source": [
    "df_err_core_mem_usage = pd.read_csv('csv/err/core-mem-usage.csv',  delimiter=',', header=0)\n",
    "df_err_core_mem_usage['Time'] = pd.to_datetime(df_err_core_mem_usage['Time'])\n",
    "df_err_core_mem_usage[\"free5gc\"] = pd.to_numeric(df_err_core_mem_usage[\"free5gc\"])\n",
    "df_err_core_mem_usage['free5gc']= df_err_core_mem_usage[\"free5gc\"] / 1024 /1024\n",
    "\n",
    "\n",
    "df_ok_core_mem_usage = pd.read_csv('csv/ok/core-mem-usage.csv',  delimiter=',', header=0)\n",
    "df_ok_core_mem_usage['Time'] = pd.to_datetime(df_ok_core_mem_usage['Time'])\n",
    "df_ok_core_mem_usage[\"free5gc\"] = pd.to_numeric(df_ok_core_mem_usage[\"free5gc\"])\n",
    "df_ok_core_mem_usage['free5gc']= df_ok_core_mem_usage[\"free5gc\"] / 1024 / 1024\n"
   ]
  },
  {
   "cell_type": "code",
   "execution_count": null,
   "metadata": {},
   "outputs": [],
   "source": [
    "df_err_cu_mem_usage = pd.read_csv('csv/err/cu-mem-usage.csv',  delimiter=',', header=0)\n",
    "df_err_cu_mem_usage['Time'] = pd.to_datetime(df_err_cu_mem_usage['Time'])\n",
    "df_err_cu_mem_usage[\"cu\"] = pd.to_numeric(df_err_cu_mem_usage[\"cu\"])\n",
    "df_err_cu_mem_usage[\"cu\"] = df_err_cu_mem_usage[\"cu\"] / 1024 / 1024\n",
    "\n",
    "df_ok_cu_mem_usage = pd.read_csv('csv/ok/cu-mem-usage.csv',  delimiter=',', header=0)\n",
    "df_ok_cu_mem_usage['Time'] = pd.to_datetime(df_ok_cu_mem_usage['Time'])\n",
    "df_ok_cu_mem_usage[\"cu\"] = pd.to_numeric(df_ok_cu_mem_usage[\"cu\"])\n",
    "df_ok_cu_mem_usage[\"cu\"] = df_ok_cu_mem_usage[\"cu\"] / 1024 / 1024"
   ]
  },
  {
   "cell_type": "code",
   "execution_count": null,
   "metadata": {},
   "outputs": [],
   "source": [
    "df_err_du_mem_usage = pd.read_csv('csv/err/du-mem-usage.csv',  delimiter=',', header=0)\n",
    "df_err_du_mem_usage['Time'] = pd.to_datetime(df_err_du_mem_usage['Time'])\n",
    "df_err_du_mem_usage[\"du\"] = pd.to_numeric(df_err_du_mem_usage[\"du\"])\n",
    "df_err_du_mem_usage[\"du\"] = df_err_du_mem_usage[\"du\"] / 1024 / 1024\n",
    "\n",
    "df_ok_du_mem_usage = pd.read_csv('csv/ok/du-mem-usage.csv',  delimiter=',', header=0)\n",
    "df_ok_du_mem_usage['Time'] = pd.to_datetime(df_ok_du_mem_usage['Time'])\n",
    "df_ok_du_mem_usage[\"du\"] = pd.to_numeric(df_ok_du_mem_usage[\"du\"])\n",
    "df_ok_du_mem_usage[\"du\"] = df_ok_du_mem_usage[\"du\"] / 1024 / 1024"
   ]
  },
  {
   "cell_type": "code",
   "execution_count": null,
   "metadata": {},
   "outputs": [],
   "source": [
    "df_err_ru_mem_usage = pd.read_csv('csv/err/ru-mem-usage.csv',  delimiter=',', header=0)\n",
    "df_err_ru_mem_usage['Time'] = pd.to_datetime(df_err_ru_mem_usage['Time'])\n",
    "df_err_ru_mem_usage[\"ru\"] = pd.to_numeric(df_err_ru_mem_usage[\"ru\"])\n",
    "df_err_ru_mem_usage[\"ru\"] = df_err_ru_mem_usage[\"ru\"] / 1024 / 1024\n",
    "\n",
    "df_ok_ru_mem_usage = pd.read_csv('csv/ok/ru-mem-usage.csv',  delimiter=',', header=0)\n",
    "df_ok_ru_mem_usage['Time'] = pd.to_datetime(df_ok_ru_mem_usage['Time'])\n",
    "df_ok_ru_mem_usage[\"ru\"] = pd.to_numeric(df_ok_ru_mem_usage[\"ru\"])\n",
    "df_ok_ru_mem_usage[\"ru\"] = df_ok_ru_mem_usage[\"ru\"] / 1024 / 1024"
   ]
  },
  {
   "cell_type": "code",
   "execution_count": null,
   "metadata": {},
   "outputs": [],
   "source": [
    "df_err_ran_limits_mem_usage = pd.read_csv('csv/err/limits-ran-mem-usage.csv',  delimiter=',', header=0)\n",
    "df_err_ran_limits_mem_usage['Time'] = pd.to_datetime(df_err_ran_limits_mem_usage['Time'])\n",
    "df_err_ran_limits_mem_usage[\"limits\"] = pd.to_numeric(df_err_ran_limits_mem_usage[\"limits\"])\n",
    "df_err_ran_limits_mem_usage[\"limits\"] = df_err_ran_limits_mem_usage[\"limits\"] / 1024 / 1024\n",
    "\n",
    "df_ok_ran_limits_mem_usage = pd.read_csv('csv/ok/limits-ran-mem-usage.csv',  delimiter=',', header=0)\n",
    "df_ok_ran_limits_mem_usage['Time'] = pd.to_datetime(df_ok_ran_limits_mem_usage['Time'])\n",
    "df_ok_ran_limits_mem_usage[\"limits\"] = pd.to_numeric(df_ok_ran_limits_mem_usage[\"limits\"])\n",
    "df_ok_ran_limits_mem_usage[\"limits\"] = df_ok_ran_limits_mem_usage[\"limits\"] / 1024 / 1024"
   ]
  },
  {
   "cell_type": "code",
   "execution_count": null,
   "metadata": {},
   "outputs": [],
   "source": [
    "df_err_core_limits_mem_usage = pd.read_csv('csv/err/limits-core-mem-usage.csv',  delimiter=',', header=0)\n",
    "df_err_core_limits_mem_usage['Time'] = pd.to_datetime(df_err_core_limits_mem_usage['Time'])\n",
    "df_err_core_limits_mem_usage[\"limits\"] = pd.to_numeric(df_err_core_limits_mem_usage[\"limits\"])\n",
    "df_err_core_limits_mem_usage[\"limits\"] = df_err_core_limits_mem_usage[\"limits\"] / 1024 / 1024\n",
    "\n",
    "df_ok_core_limits_mem_usage = pd.read_csv('csv/ok/limits-core-mem-usage.csv',  delimiter=',', header=0)\n",
    "df_ok_core_limits_mem_usage['Time'] = pd.to_datetime(df_ok_core_limits_mem_usage['Time'])\n",
    "df_ok_core_limits_mem_usage[\"limits\"] = pd.to_numeric(df_ok_core_limits_mem_usage[\"limits\"])\n",
    "df_ok_core_limits_mem_usage[\"limits\"] = df_ok_core_limits_mem_usage[\"limits\"] / 1024 / 1024"
   ]
  },
  {
   "cell_type": "code",
   "execution_count": null,
   "metadata": {},
   "outputs": [],
   "source": [
    "df_err_logs = pd.read_csv('csv/err/logs.csv',  delimiter='::', header=0, engine='python')\n",
    "df_err_logs['time'] = pd.to_datetime(df_err_logs['time'])\n",
    "df_err_logs_count = df_err_logs.groupby(['time','kubernetes.container_name']).size().reset_index(name='counts')\n",
    "df_err_logs_count_core = df_err_logs_count.loc[df_err_logs_count['kubernetes.container_name'] == 'free5gc']\n",
    "df_err_logs_count_cu = df_err_logs_count.loc[df_err_logs_count['kubernetes.container_name'] == 'cu']\n",
    "df_err_logs_count_du = df_err_logs_count.loc[df_err_logs_count['kubernetes.container_name'] == 'du']\n",
    "df_err_logs_count_ru = df_err_logs_count.loc[df_err_logs_count['kubernetes.container_name'] == 'ru']\n",
    "\n",
    "df_ok_logs = pd.read_csv('csv/ok/logs.csv',  delimiter='::', header=0, engine='python')\n",
    "df_ok_logs['time'] = pd.to_datetime(df_ok_logs['time'])\n",
    "df_ok_logs_count = df_ok_logs.groupby(['time','kubernetes.container_name']).size().reset_index(name='counts')\n",
    "df_ok_logs_count_core = df_ok_logs_count.loc[df_ok_logs_count['kubernetes.container_name'] == 'free5gc']\n",
    "df_ok_logs_count_cu = df_ok_logs_count.loc[df_ok_logs_count['kubernetes.container_name'] == 'cu']\n",
    "df_ok_logs_count_du = df_ok_logs_count.loc[df_ok_logs_count['kubernetes.container_name'] == 'du']\n",
    "df_ok_logs_count_ru = df_ok_logs_count.loc[df_ok_logs_count['kubernetes.container_name'] == 'ru']"
   ]
  },
  {
   "cell_type": "code",
   "execution_count": null,
   "metadata": {},
   "outputs": [],
   "source": [
    "df_logs_err = pd.read_csv('csv/err/logs-err.csv',  delimiter='::', header=0, engine='python')\n",
    "df_logs_err['time'] = pd.to_datetime(df_logs_err['time'])\n",
    "df_logs_err_count = df_logs_err.groupby(['time','kubernetes.container_name']).size().reset_index(name='counts')"
   ]
  },
  {
   "cell_type": "code",
   "execution_count": null,
   "metadata": {},
   "outputs": [],
   "source": [
    "all_seconds_err = pd.date_range('2022-01-17 23:25:00', '2022-01-17 23:31:00', freq='s')\n",
    "all_seconds_ok = pd.date_range('2022-01-17 22:54:00', '2022-01-17 23:00:00', freq='s')\n",
    "\n",
    "\n",
    "df_logs_err_count.index = pd.DatetimeIndex(df_logs_err_count['time'])\n",
    "df_logs_err_count = df_logs_err_count.reindex(all_seconds_err)\n",
    "df_logs_err_count['kubernetes.container_name'] = df_logs_err_count['kubernetes.container_name'].fillna('du')\n",
    "#df_logs_err_count['counts'] = df_logs_err_count['counts'].fillna(value=0)\n",
    "\n",
    "df_err_logs_count_cu.index = pd.DatetimeIndex(df_err_logs_count_cu['time'])\n",
    "df_err_logs_count_cu = df_err_logs_count_cu.reindex(all_seconds_err)\n",
    "df_err_logs_count_cu['kubernetes.container_name'] = df_err_logs_count_cu['kubernetes.container_name'].fillna('cu')\n",
    "df_err_logs_count_cu['counts'] = df_err_logs_count_cu['counts'].fillna(0)\n",
    "\n",
    "df_ok_logs_count_cu.index = pd.DatetimeIndex(df_ok_logs_count_cu['time'])\n",
    "df_ok_logs_count_cu = df_ok_logs_count_cu.reindex(all_seconds_ok)\n",
    "df_ok_logs_count_cu['kubernetes.container_name'] = df_ok_logs_count_cu['kubernetes.container_name'].fillna('cu')\n",
    "df_ok_logs_count_cu['counts'] = df_ok_logs_count_cu['counts'].fillna(0)\n",
    "\n",
    "df_err_logs_count_du.index = pd.DatetimeIndex(df_err_logs_count_du['time'])\n",
    "df_err_logs_count_du = df_err_logs_count_du.reindex(all_seconds_err)\n",
    "df_err_logs_count_du['kubernetes.container_name'] = df_err_logs_count_du['kubernetes.container_name'].fillna('du')\n",
    "df_err_logs_count_du['counts'] = df_err_logs_count_du['counts'].fillna(0)\n",
    "\n",
    "df_ok_logs_count_du.index = pd.DatetimeIndex(df_ok_logs_count_du['time'])\n",
    "df_ok_logs_count_du = df_ok_logs_count_du.reindex(all_seconds_ok)\n",
    "df_ok_logs_count_du['kubernetes.container_name'] = df_ok_logs_count_du['kubernetes.container_name'].fillna('du')\n",
    "df_ok_logs_count_du['counts'] = df_ok_logs_count_du['counts'].fillna(0)\n",
    "\n",
    "df_err_logs_count_ru.index = pd.DatetimeIndex(df_err_logs_count_ru['time'])\n",
    "df_err_logs_count_ru = df_err_logs_count_ru.reindex(all_seconds_err)\n",
    "df_err_logs_count_ru['kubernetes.container_name'] = df_err_logs_count_ru['kubernetes.container_name'].fillna('ru')\n",
    "df_err_logs_count_ru['counts'] = df_err_logs_count_ru['counts'].fillna(0)\n",
    "\n",
    "df_ok_logs_count_ru.index = pd.DatetimeIndex(df_ok_logs_count_ru['time'])\n",
    "df_ok_logs_count_ru = df_ok_logs_count_ru.reindex(all_seconds_ok)\n",
    "df_ok_logs_count_ru['kubernetes.container_name'] = df_ok_logs_count_ru['kubernetes.container_name'].fillna('ru')\n",
    "df_ok_logs_count_ru['counts'] = df_ok_logs_count_ru['counts'].fillna(0)\n",
    "\n",
    "df_err_logs_count_core.index = pd.DatetimeIndex(df_err_logs_count_core['time'])\n",
    "df_err_logs_count_core = df_err_logs_count_core.reindex(all_seconds_err)\n",
    "df_err_logs_count_core['kubernetes.container_name'] = df_err_logs_count_core['kubernetes.container_name'].fillna('free5gc')\n",
    "df_err_logs_count_core['counts'] = df_err_logs_count_core['counts'].fillna(value=0)\n",
    "\n",
    "df_ok_logs_count_core.index = pd.DatetimeIndex(df_ok_logs_count_core['time'])\n",
    "df_ok_logs_count_core = df_ok_logs_count_core.reindex(all_seconds_ok)\n",
    "df_ok_logs_count_core['kubernetes.container_name'] = df_ok_logs_count_core['kubernetes.container_name'].fillna('free5gc')\n",
    "df_ok_logs_count_core['counts'] = df_ok_logs_count_core['counts'].fillna(value=0)"
   ]
  },
  {
   "cell_type": "code",
   "execution_count": null,
   "metadata": {},
   "outputs": [],
   "source": [
    "df_err_logs_count_sum = pd.DataFrame()\n",
    "df_err_logs_count_sum = df_err_logs_count_sum.reindex(all_seconds_err)\n",
    "df_err_logs_count_sum['ru'] = df_err_logs_count_ru['counts']\n",
    "df_err_logs_count_sum['ru-du'] = df_err_logs_count_ru['counts'] + df_err_logs_count_du['counts']\n",
    "df_err_logs_count_sum['ru-du-cu'] = df_err_logs_count_ru['counts'] + df_err_logs_count_du['counts'] + df_err_logs_count_cu['counts']\n",
    "\n",
    "df_ok_logs_count_sum = pd.DataFrame()\n",
    "df_ok_logs_count_sum = df_ok_logs_count_sum.reindex(all_seconds_ok)\n",
    "df_ok_logs_count_sum['ru'] = df_ok_logs_count_ru['counts']\n",
    "df_ok_logs_count_sum['ru-du'] = df_ok_logs_count_ru['counts'] + df_ok_logs_count_du['counts']\n",
    "df_ok_logs_count_sum['ru-du-cu'] = df_ok_logs_count_ru['counts'] + df_ok_logs_count_du['counts'] + df_ok_logs_count_cu['counts']"
   ]
  },
  {
   "cell_type": "code",
   "execution_count": null,
   "metadata": {},
   "outputs": [],
   "source": [
    "df_err_iperf = pd.read_csv('csv/err/iperf.csv',  delimiter=';', header=0)\n",
    "df_err_iperf['time'] = pd.to_datetime(df_err_iperf['time'])\n",
    "df_err_iperf[\"Bandwidth(Mbits/s)\"] = pd.to_numeric(df_err_iperf[\"Bandwidth(Mbits/s)\"])\n",
    "\n",
    "df_ok_iperf = pd.read_csv('csv/ok/iperf.csv',  delimiter=';', header=0)\n",
    "df_ok_iperf['time'] = pd.to_datetime(df_ok_iperf['time'])\n",
    "df_ok_iperf[\"Bandwidth(Mbits/s)\"] = pd.to_numeric(df_ok_iperf[\"Bandwidth(Mbits/s)\"])"
   ]
  },
  {
   "cell_type": "code",
   "execution_count": null,
   "metadata": {},
   "outputs": [],
   "source": [
    "df_ok_logs_count_core = pd.read_csv('csv/ok/df_ok_logs_count_core.csv', delimiter=';', header=0)\n",
    "df_ok_logs_count_core['index'] = pd.to_datetime(df_ok_logs_count_core['index'])\n",
    "df_ok_logs_count_core = df_ok_logs_count_core.set_index('index')\n"
   ]
  },
  {
   "cell_type": "code",
   "execution_count": null,
   "metadata": {},
   "outputs": [],
   "source": [
    "fig, axes = plt.subplots(nrows=6, ncols=2, sharex='col', figsize=(15,15))\n",
    "axes[0,0].set_xlabel('Time')\n",
    "axes[0,1].set_xlabel('Time')\n",
    "\n",
    "df_err_core_cpu_usage.plot(kind='line', y='free5gc', x='Time',label='Core', ax=axes[0,0])\n",
    "df_err_cu_cpu_usage.plot(kind='line', y='cu', x='Time',label='CU', ax=axes[0,0])\n",
    "df_err_du_cpu_usage.plot(kind='line', y='du', x='Time',label='DU', ax=axes[0,0])\n",
    "df_err_ru_cpu_usage.plot(kind='line', y='ru', x='Time',label='RU', ax=axes[0,0])\n",
    "df_err_ran_limits_cpu_usage.plot(kind='line', y='limits', x='Time',label='RAN Lim.', linestyle='dashed', ax=axes[0,0])\n",
    "df_err_core_limits_cpu_usage.plot(kind='line', y='limits', x='Time',label='Core Lim.', linestyle='dashed', ax=axes[0,0])\n",
    "axes[0,0].set_ylabel('CPU(Millicores)')\n",
    "\n",
    "df_ok_core_cpu_usage.plot(kind='line', y='free5gc', x='Time',label='Core', ax=axes[0,1])\n",
    "df_ok_cu_cpu_usage.plot(kind='line', y='cu', x='Time',label='CU', ax=axes[0,1])\n",
    "df_ok_du_cpu_usage.plot(kind='line', y='du', x='Time',label='DU', ax=axes[0,1])\n",
    "df_ok_ru_cpu_usage.plot(kind='line', y='ru', x='Time',label='RU', ax=axes[0,1])\n",
    "df_ok_ran_limits_cpu_usage.plot(kind='line', y='limits', x='Time',label='RAN Lim.', linestyle='dashed', ax=axes[0,1])\n",
    "df_ok_core_limits_cpu_usage.plot(kind='line', y='limits', x='Time',label='Core Lim.', linestyle='dashed', ax=axes[0,1])\n",
    "axes[0,1].set_ylabel('CPU(Millicores)')\n",
    "\n",
    "df_err_core_mem_usage.plot(kind='line', y='free5gc', x='Time',label='Core', ax=axes[1,0])\n",
    "df_err_cu_mem_usage.plot(kind='line', y='cu', x='Time',label='CU', ax=axes[1,0])\n",
    "df_err_du_mem_usage.plot(kind='line', y='du', x='Time',label='DU', ax=axes[1,0])\n",
    "df_err_ru_mem_usage.plot(kind='line', y='ru', x='Time',label='RU', ax=axes[1,0])\n",
    "df_err_ran_limits_mem_usage.plot(kind='line', y='limits', x='Time',label='RAN Lim.',linestyle='dashed', ax=axes[1,0])\n",
    "df_err_core_limits_mem_usage.plot(kind='line', y='limits', x='Time',label='Core Lim.',linestyle='dashed', ax=axes[1,0])\n",
    "axes[1,0].set_ylabel('Memory(MiBytes)')\n",
    "\n",
    "df_ok_core_mem_usage.plot(kind='line', y='free5gc', x='Time',label='Core', ax=axes[1,1])\n",
    "df_ok_cu_mem_usage.plot(kind='line', y='cu', x='Time',label='CU', ax=axes[1,1])\n",
    "df_ok_du_mem_usage.plot(kind='line', y='du', x='Time',label='DU', ax=axes[1,1])\n",
    "df_ok_ru_mem_usage.plot(kind='line', y='ru', x='Time',label='RU', ax=axes[1,1])\n",
    "df_ok_ran_limits_mem_usage.plot(kind='line', y='limits', x='Time',label='RAN Lim.',linestyle='dashed', ax=axes[1,1])\n",
    "df_ok_core_limits_mem_usage.plot(kind='line', y='limits', x='Time',label='Core Lim.',linestyle='dashed', ax=axes[1,1])\n",
    "axes[1,1].set_ylabel('Memory(MiBytes)')\n",
    "\n",
    "df_err_iperf.plot(kind='line',x='time',y='Bandwidth(Mbits/s)', label='Bandwidth' , ax=axes[2,0])\n",
    "axes[2,0].set_ylabel('Mbits/s')\n",
    "\n",
    "df_ok_iperf.plot(kind='line',x='time',y='Bandwidth(Mbits/s)', label='Bandwidth' , ax=axes[2,1])\n",
    "axes[2,1].set_ylabel('Mbits/s')\n",
    "\n",
    "df_err_logs_count_core.plot(kind='line',y='counts',label='Core', ax=axes[3,0])\n",
    "axes[3,0].fill_between(df_err_logs_count_core.index, 0, df_err_logs_count_core['counts'], alpha=0.5)\n",
    "axes[3,0].set_ylabel('Logs/s')\n",
    "axes[3,0].set_yscale('log')\n",
    "\n",
    "df_ok_logs_count_core.plot(kind='line',y='counts',label='Core', ax=axes[3,1])\n",
    "axes[3,1].fill_between(df_ok_logs_count_core.index, 0, df_ok_logs_count_core['counts'], alpha=0.5)\n",
    "axes[3,1].set_ylabel('Logs/s')\n",
    "axes[3,1].set_yscale('log')\n",
    "\n",
    "df_err_logs_count_sum.plot(kind='line', y='ru', label='RU', ax=axes[4,0])\n",
    "axes[4,0].fill_between(df_err_logs_count_sum.index, 0, df_err_logs_count_sum['ru'], alpha=0.5)\n",
    "df_err_logs_count_sum.plot(kind='line', y='ru-du', label='DU', ax=axes[4,0])\n",
    "axes[4,0].fill_between(df_err_logs_count_sum.index, df_err_logs_count_sum['ru'],df_err_logs_count_sum['ru-du'], alpha=0.5)\n",
    "df_err_logs_count_sum.plot(kind='line', y='ru-du-cu', label='CU', ax=axes[4,0])\n",
    "axes[4,0].fill_between(df_err_logs_count_sum.index, df_err_logs_count_sum['ru-du'],df_err_logs_count_sum['ru-du-cu'],alpha=0.5)\n",
    "axes[4,0].set_ylabel('Logs/s')\n",
    "axes[4,0].set_yscale('log')\n",
    "\n",
    "df_ok_logs_count_sum.plot(kind='line', y='ru', label='RU', ax=axes[4,1])\n",
    "axes[4,1].fill_between(df_ok_logs_count_sum.index, 0, df_ok_logs_count_sum['ru'], alpha=0.5)\n",
    "df_ok_logs_count_sum.plot(kind='line', y='ru-du', label='DU', ax=axes[4,1])\n",
    "axes[4,1].fill_between(df_ok_logs_count_sum.index, df_ok_logs_count_sum['ru'],df_ok_logs_count_sum['ru-du'], alpha=0.5)\n",
    "df_ok_logs_count_sum.plot(kind='line', y='ru-du-cu', label='CU', ax=axes[4,1])\n",
    "axes[4,1].fill_between(df_ok_logs_count_sum.index, df_ok_logs_count_sum['ru-du'],df_ok_logs_count_sum['ru-du-cu'],alpha=0.5)\n",
    "axes[4,1].set_ylabel('Logs/s')\n",
    "axes[4,1].set_yscale('log')\n",
    "\n",
    "df_logs_err_count.plot(kind='line', y='counts', label='DU Errors', marker='o', ms=2,ax=axes[5,0], alpha=0.5)#,marker='o',linestyle='none',color='red',ms=3\n",
    "axes[5,0].fill_between(df_logs_err_count.index, 0, df_logs_err_count['counts'])\n",
    "axes[5,0].set_ylabel('Logs/s')\n",
    "\n",
    "for ax in axes:\n",
    "    for each in ax:\n",
    "        each.axvline('2022-01-17 23:28:52',linestyle =\"dotted\", color='tab:gray')\n",
    "        each.axvline('2022/01/17 23:29:38',linestyle =\"dotted\", color='tab:gray')\n",
    "        each.axvline('2022/01/17 23:30:07',linestyle =\"dotted\", color='tab:gray')\n",
    "        each.axvline('2022/01/17 23:30:37',linestyle =\"dotted\", color='tab:gray')\n",
    "\n",
    "        each.axvline('2022/01/17 22:57:32',linestyle =\"dotted\", color='tab:gray')\n",
    "        each.axvline('2022/01/17 22:58:18',linestyle =\"dotted\", color='tab:gray')\n",
    "        each.axvline('2022/01/17 22:59:17',linestyle =\"dotted\", color='tab:gray')\n",
    "\n",
    "        \n",
    "\n",
    "\n",
    "axes[0,0].annotate('RAN Online', xy=('2022-01-17 23:28:52',1.05), xytext=(-15, 15), textcoords='offset points', arrowprops=dict(arrowstyle='->', color='black'), fontsize=10, horizontalalignment=\"right\")\n",
    "axes[0,0].annotate('Iniciado Iperf', xy=('2022/01/17 23:29:38',1.05), xytext=(0, 15), textcoords='offset points', arrowprops=dict(arrowstyle='->', color='black'), fontsize=10, horizontalalignment=\"center\")\n",
    "axes[0,0].annotate('RAN Offline', xy=('2022/01/17 23:30:07',1.05), xytext=(15, 15), textcoords='offset points', arrowprops=dict(arrowstyle='->', color='black'), fontsize=10)\n",
    "axes[0,0].annotate('Encerrado Iperf', xy=('2022/01/17 23:30:37',0.60), xytext=(15, 15), textcoords='offset points', arrowprops=dict(arrowstyle='->', color='black'), fontsize=10, horizontalalignment=\"center\")\n",
    "axes[5,0].annotate('Erro antes da RAN ficar Offline', xy=('2022-01-17 23:29:52',1), xytext=(0, 15), textcoords='offset points', arrowprops=dict(arrowstyle='->', color='black'), fontsize=10, horizontalalignment=\"right\")\n",
    "\n",
    "axes[0,1].annotate('RAN Online', xy=('2022/01/17 22:57:32',4.05), xytext=(-15, 15), textcoords='offset points', arrowprops=dict(arrowstyle='->', color='black'), fontsize=10, horizontalalignment=\"right\")\n",
    "axes[0,1].annotate('Iniciado Iperf', xy=('2022/01/17 22:58:18',4.05), xytext=(0, 15), textcoords='offset points', arrowprops=dict(arrowstyle='->', color='black'), fontsize=10, horizontalalignment=\"center\")\n",
    "axes[0,1].annotate('Encerrado Iperf', xy=('2022/01/17 22:59:17',4.05), xytext=(15, 15), textcoords='offset points', arrowprops=dict(arrowstyle='->', color='black'), fontsize=10, horizontalalignment=\"center\")\n",
    "\n",
    "\n",
    "\n",
    "#plt.savefig('out/out.pdf', dpi=600, bbox_inches='tight')\n",
    "#plt.savefig('out/out.png', dpi=600, bbox_inches='tight')\n"
   ]
  },
  {
   "cell_type": "code",
   "execution_count": null,
   "metadata": {},
   "outputs": [],
   "source": [
    "#df_ok_logs_count_core.to_csv(\"csv/ok/df_ok_logs_count_core.#csv\")"
   ]
  }
 ],
 "metadata": {
  "interpreter": {
   "hash": "31f2aee4e71d21fbe5cf8b01ff0e069b9275f58929596ceb00d14d90e3e16cd6"
  },
  "kernelspec": {
   "display_name": "Python 3.8.10 64-bit",
   "language": "python",
   "name": "python3"
  },
  "language_info": {
   "codemirror_mode": {
    "name": "ipython",
    "version": 3
   },
   "file_extension": ".py",
   "mimetype": "text/x-python",
   "name": "python",
   "nbconvert_exporter": "python",
   "pygments_lexer": "ipython3",
   "version": "3.8.10"
  },
  "orig_nbformat": 4
 },
 "nbformat": 4,
 "nbformat_minor": 2
}
